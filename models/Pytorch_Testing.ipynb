{
 "cells": [
  {
   "cell_type": "code",
   "execution_count": 1,
   "metadata": {},
   "outputs": [],
   "source": [
    "import torch\n",
    "import torch.nn as nn\n",
    "import torch.nn.functional as F\n",
    "import torch.optim as optim\n",
    "from torchvision import datasets, transforms\n",
    "from torch.utils.data import DataLoader, Dataset\n",
    "import numpy as np\n",
    "import os \n",
    "import natsort\n",
    "import cv2\n",
    "from PIL import Image\n",
    "import matplotlib.pyplot as plt\n"
   ]
  },
  {
   "cell_type": "markdown",
   "metadata": {},
   "source": [
    "# Introduction\n",
    "This file is going to test the trained model on a custom dataset. The custom images are stored while using `tracker.py`. Each letter has 3 images to be tested on. "
   ]
  },
  {
   "cell_type": "markdown",
   "metadata": {},
   "source": [
    "# Load Dataset"
   ]
  },
  {
   "cell_type": "markdown",
   "metadata": {},
   "source": [
    "### Define class labels A~Z, the first member here is meaningless"
   ]
  },
  {
   "cell_type": "code",
   "execution_count": 2,
   "metadata": {},
   "outputs": [
    {
     "data": {
      "text/plain": [
       "array(['0', 'A', 'B', 'C', 'D', 'E', 'F', 'G', 'H', 'I', 'J', 'K', 'L',\n",
       "       'M', 'N', 'O', 'P', 'Q', 'R', 'S', 'T', 'U', 'V', 'W', 'X', 'Y',\n",
       "       'Z'], dtype='<U1')"
      ]
     },
     "metadata": {},
     "output_type": "display_data"
    },
    {
     "name": "stdout",
     "output_type": "stream",
     "text": [
      "class size =  27\n"
     ]
    }
   ],
   "source": [
    "classes = []\n",
    "classes.append(chr(48))\n",
    "for i in range(65, 91):\n",
    "    classes.append(chr(i))\n",
    "class_size = len(classes)\n",
    "\n",
    "# 26 letters \n",
    "display(np.transpose(classes))\n",
    "print(\"class size = \", class_size)"
   ]
  },
  {
   "cell_type": "markdown",
   "metadata": {},
   "source": [
    "### Helper class for visializing dataset"
   ]
  },
  {
   "cell_type": "code",
   "execution_count": 3,
   "metadata": {},
   "outputs": [],
   "source": [
    "def display_batch(img, labels, n_row=5, n_col=6):\n",
    "    \"\"\" Helper function for displaying one batch of images.\n",
    "    The default batch size is 26.\n",
    "    \n",
    "        Args:\n",
    "            img: one batch of images\n",
    "            labels: ground truth or predicted label of images \n",
    "            n_row: number of rows of subplots\n",
    "            n_col: number of columns of subplots\n",
    "    \"\"\"\n",
    "    fig, ax = plt.subplots(n_row,n_col, figsize=(5,5))\n",
    "    fig.tight_layout(pad=0.1)\n",
    "    row = 0\n",
    "    for i, img in enumerate(images):\n",
    "        if i%n_col == 0 and i > 0:\n",
    "            row += 1\n",
    "            \n",
    "        # EMNIST dataset is mirroed and rotated\n",
    "        # convert the images back to regular view\n",
    "        npimg = img.numpy()\n",
    "        npimg = np.fliplr(npimg)\n",
    "        npimg = np.rot90(npimg, axes=(-1,-2))\n",
    "        npimg = np.transpose(npimg, (1, 2, 0))\n",
    "        \n",
    "        # configure into subplots\n",
    "        sub_plot = ax[row, i%n_col]\n",
    "        sub_plot.imshow(npimg)\n",
    "        sub_plot.title.set_text(classes[labels[i]])\n",
    "        # disable xy axis to make room for labels\n",
    "        sub_plot.get_xaxis().set_visible(False)\n",
    "        sub_plot.get_yaxis().set_visible(False)\n",
    "        \n",
    "    for i in range(n_row*n_col-len(labels), n_row*n_col):\n",
    "        # remove unused blocks\n",
    "        sub_plot = ax[row, i%n_col]\n",
    "        sub_plot.set_axis_off()\n",
    "        \n",
    "    plt.show()"
   ]
  },
  {
   "cell_type": "markdown",
   "metadata": {},
   "source": [
    "### Construct custom dataset loader"
   ]
  },
  {
   "cell_type": "code",
   "execution_count": 4,
   "metadata": {},
   "outputs": [],
   "source": [
    "class UserKnownImageDataSet(Dataset):\n",
    "    \"\"\" Helper class to load a dateset from a given path at `root_dit` \n",
    "\n",
    "        Args: \n",
    "            root_dir: root directory of labeled images.\n",
    "                    image file names should be in format <index>_<label>_<random_string>.png\n",
    "            transform: transform to images\n",
    "    \"\"\"\n",
    "    def __init__(self, root_dir, transform):\n",
    "        self.root_dir = root_dir\n",
    "        self.transform = transform\n",
    "        self.all_imgs = os.listdir(root_dir)\n",
    "        self.total_imgs = natsort.natsorted(self.all_imgs)\n",
    "        self.classes = [chr(i) for i in range(64,91)] \n",
    "\n",
    "    def __len__(self):\n",
    "        return len(self.total_imgs)\n",
    "\n",
    "    def __getitem__(self, idx):\n",
    "        for filename in self.all_imgs:\n",
    "            if filename.split('_')[0] == str(idx):\n",
    "                path = os.path.join(self.root_dir, filename)\n",
    "                image = cv2.imread(path,cv2.IMREAD_GRAYSCALE)\n",
    "                image = np.rot90(image, axes=(0,1))\n",
    "                image = cv2.resize(image, (28,28))\n",
    "                image = Image.fromarray(image)\n",
    "                image = self.transform(image)\n",
    "\n",
    "                label = filename.split('_')[1]\n",
    "\n",
    "                return image, torch.tensor(self.classes.index(label))\n"
   ]
  },
  {
   "cell_type": "markdown",
   "metadata": {},
   "source": [
    "### Test loader\n",
    "The transforms to dataset is the same as the transforms for training (see to `Pytorch_Training.ipynb`)"
   ]
  },
  {
   "cell_type": "code",
   "execution_count": 5,
   "metadata": {},
   "outputs": [],
   "source": [
    "class Expand(object):\n",
    "    \"\"\" Custom pytorch transform class to fit a 25x25 px writing image into a 28x28 px black canvas \n",
    "    This is only used when writings are bounded by a box. Right now, \n",
    "    writings are unbounded, so this is not used.\n",
    "    \"\"\"\n",
    "    def __init__(self, output_size):\n",
    "        assert isinstance(output_size, (int, tuple))\n",
    "        self.output_size = output_size\n",
    "\n",
    "    def __call__(self, sample):\n",
    "        image = sample.numpy()\n",
    "        h, w = image.shape[1], image.shape[2]\n",
    "        expand_s = self.output_size\n",
    "        background = np.zeros((1, expand_s, expand_s))\n",
    "        rnd_x = 1\n",
    "        rnd_y = 1\n",
    "        background[:,rnd_x:rnd_x+w,rnd_y:rnd_y+h] = image\n",
    "        return torch.from_numpy(background)\n"
   ]
  },
  {
   "cell_type": "code",
   "execution_count": 6,
   "metadata": {},
   "outputs": [],
   "source": [
    "transform = transforms.Compose(\n",
    "                    [transforms.ToTensor(),\n",
    "                    transforms.Resize(28),\n",
    "                    transforms.Normalize((0.5), (0.5))])"
   ]
  },
  {
   "cell_type": "code",
   "execution_count": 7,
   "metadata": {},
   "outputs": [],
   "source": [
    "img_folder_path = './code/user_dataset'\n",
    "\n",
    "batch_size = class_size-1\n",
    "user_dataset = UserKnownImageDataSet(img_folder_path, transform=transform)\n",
    "user_loader = DataLoader(user_dataset , batch_size=batch_size, shuffle=False, num_workers=0)"
   ]
  },
  {
   "cell_type": "code",
   "execution_count": 8,
   "metadata": {},
   "outputs": [
    {
     "name": "stdout",
     "output_type": "stream",
     "text": [
      "Size of dataset =  178\n"
     ]
    }
   ],
   "source": [
    "print(\"Size of dataset = \", len(user_dataset))"
   ]
  },
  {
   "cell_type": "code",
   "execution_count": 9,
   "metadata": {},
   "outputs": [
    {
     "name": "stdout",
     "output_type": "stream",
     "text": [
      "Gound Truth\n"
     ]
    },
    {
     "data": {
      "image/png": "[encoded data removed]",
      "text/plain": [
       "<Figure size 360x360 with 30 Axes>"
      ]
     },
     "metadata": {
      "needs_background": "light"
     },
     "output_type": "display_data"
    }
   ],
   "source": [
    "dataiter = iter(user_loader)\n",
    "images, labels = dataiter.next()\n",
    "\n",
    "print(\"Gound Truth\")\n",
    "display_batch(images, labels)"
   ]
  },
  {
   "cell_type": "markdown",
   "metadata": {},
   "source": [
    "# Test Custom Dataset"
   ]
  },
  {
   "cell_type": "markdown",
   "metadata": {},
   "source": [
    "### Load trained model\n",
    "The model needs to be the same as training model (see to `Pytorch_Training.ipynb`)"
   ]
  },
  {
   "cell_type": "code",
   "execution_count": 10,
   "metadata": {},
   "outputs": [],
   "source": [
    "class Net(nn.Module):\n",
    "    \"\"\" Neural network for training and classifiying EMNIST dataset.\n",
    "\n",
    "        Network architecture:\n",
    "        - max pooling\n",
    "        - 2D convolution layer of 64 channels and kernal size 5\n",
    "        - 2D convolution layer of 128 channels and kernal size 5\n",
    "        - Input layer\n",
    "        - First hidden layer: fully connected layer of size 128 nodes\n",
    "        - Second hidden layer: fully connected layer of size 64 nodes\n",
    "        - Output layer: a linear layer with one node per class \n",
    "\n",
    "        Activation function: ReLU for all layers\n",
    "    \"\"\"\n",
    "    def __init__(self):\n",
    "        super(Net, self).__init__()\n",
    "        self.conv1 = nn.Conv2d(1, 64, kernel_size=5)\n",
    "        self.conv2 = nn.Conv2d(64, 128, kernel_size=5)\n",
    "        self.fc1 = nn.Linear(128*4*4, 128)\n",
    "        self.fc2 = nn.Linear(128, 64)\n",
    "        self.fc3 = nn.Linear(64, class_size)\n",
    "\n",
    "    def forward(self, x):\n",
    "        self.pool = nn.MaxPool2d(2, 2)\n",
    "        x = self.pool(F.relu(self.conv1(x)))\n",
    "        x = self.pool(F.relu(self.conv2(x)))\n",
    "        x = x.view(-1, 128*4*4)\n",
    "        x = F.relu(self.fc1(x))\n",
    "        x = F.relu(self.fc2(x))\n",
    "        x = self.fc3(x)\n",
    "        return x\n",
    "\n",
    "net = Net()"
   ]
  },
  {
   "cell_type": "code",
   "execution_count": 11,
   "metadata": {},
   "outputs": [
    {
     "data": {
      "text/plain": [
       "<All keys matched successfully>"
      ]
     },
     "execution_count": 11,
     "metadata": {},
     "output_type": "execute_result"
    }
   ],
   "source": [
    "PATH = './code/models/model_letters.pth'\n",
    "net = Net()\n",
    "net.load_state_dict(torch.load(PATH))"
   ]
  },
  {
   "cell_type": "markdown",
   "metadata": {},
   "source": [
    "### Test model on one batch"
   ]
  },
  {
   "cell_type": "code",
   "execution_count": 12,
   "metadata": {},
   "outputs": [
    {
     "name": "stdout",
     "output_type": "stream",
     "text": [
      "Gound Truth\n"
     ]
    },
    {
     "data": {
      "image/png": "[encoded data removed]",
      "text/plain": [
       "<Figure size 360x360 with 30 Axes>"
      ]
     },
     "metadata": {
      "needs_background": "light"
     },
     "output_type": "display_data"
    }
   ],
   "source": [
    "dataiter = iter(user_loader)\n",
    "images, labels = dataiter.next()\n",
    "\n",
    "print(\"Gound Truth\")\n",
    "display_batch(images, labels)"
   ]
  },
  {
   "cell_type": "code",
   "execution_count": 13,
   "metadata": {
    "scrolled": false
   },
   "outputs": [
    {
     "name": "stdout",
     "output_type": "stream",
     "text": [
      "Predicted\n"
     ]
    },
    {
     "data": {
      "image/png": "[encoded data removed]",
      "text/plain": [
       "<Figure size 360x360 with 30 Axes>"
      ]
     },
     "metadata": {
      "needs_background": "light"
     },
     "output_type": "display_data"
    }
   ],
   "source": [
    "outputs = net(images.float())\n",
    "_, predicted = torch.max(outputs, 1)\n",
    "\n",
    "print(\"Predicted\")\n",
    "display_batch(images, predicted)"
   ]
  },
  {
   "cell_type": "markdown",
   "metadata": {},
   "source": [
    "### Test model on entire dataset"
   ]
  },
  {
   "cell_type": "code",
   "execution_count": 14,
   "metadata": {},
   "outputs": [],
   "source": [
    "def test(model, data_loader, device=torch.device('cpu')):\n",
    "    \"\"\" Helper function for evaluating a trained neural network on a testing set.\n",
    "    \n",
    "        Args:\n",
    "            model: trained neural network\n",
    "            data_loader: for loading the netowrk input and targets from the testing dataset\n",
    "            device: device used when training, default is CPU\n",
    "\n",
    "        Returns:\n",
    "            test_loss: average loss value on the entire testing dataset\n",
    "            test_accuracy: percentage of correctly classified samples in the testing dataset\n",
    "    \"\"\"\n",
    "    running_loss = 0.0\n",
    "    correct = 0\n",
    "    total = 0\n",
    "    criterion = nn.CrossEntropyLoss()\n",
    "\n",
    "    with torch.no_grad():\n",
    "        for i, data in enumerate(data_loader, 0):\n",
    "            inputs, labels = data[0].to(device), data[1].to(device)\n",
    "            outputs = model(inputs.float())\n",
    "\n",
    "            _, predicted = torch.max(outputs.data, 1)\n",
    "            total += labels.size(0)\n",
    "            correct += (predicted == labels).sum().item()\n",
    "\n",
    "            loss = criterion(outputs, labels)\n",
    "            running_loss += loss.item()\n",
    "\n",
    "    test_loss = running_loss / total\n",
    "    test_accuracy = correct * 100 / total\n",
    "\n",
    "    return test_loss, test_accuracy"
   ]
  },
  {
   "cell_type": "code",
   "execution_count": 15,
   "metadata": {},
   "outputs": [
    {
     "name": "stdout",
     "output_type": "stream",
     "text": [
      "Test loss =  0.006697023057200936\n",
      "Overall test accuracy =  94.9438202247191\n"
     ]
    }
   ],
   "source": [
    "test_loss, test_accuracy = test(net, user_loader)\n",
    "print(\"Test loss = \", test_loss)\n",
    "print(\"Overall test accuracy = \", test_accuracy)"
   ]
  },
  {
   "cell_type": "markdown",
   "metadata": {},
   "source": [
    "### Test accuracy on each label"
   ]
  },
  {
   "cell_type": "code",
   "execution_count": 16,
   "metadata": {},
   "outputs": [],
   "source": [
    "def test_each_label(model, data_loader, device=torch.device('cpu')):\n",
    "    \"\"\" Helper function for evaluating a trained neural network on a testing set.\n",
    "    \n",
    "        Args:\n",
    "            model: trained neural network\n",
    "            data_loader: for loading the netowrk input and targets from the testing dataset\n",
    "            device: device used when training, default is CPU\n",
    "\n",
    "        Returns:\n",
    "            test_loss: average loss value on the entire testing dataset\n",
    "            test_accuracy: percentage of correctly classified samples in the testing dataset\n",
    "    \"\"\"\n",
    "    class_correct = np.zeros(class_size)\n",
    "    class_total = np.zeros(class_size)\n",
    "    class_acc = np.zeros(class_size)\n",
    "    with torch.no_grad():\n",
    "        for data in data_loader:\n",
    "            images, labels = data\n",
    "            outputs = model(images.float())\n",
    "            _, predicted = torch.max(outputs, 1)\n",
    "            c = (predicted == labels).squeeze()\n",
    "            for i in range(labels.size()[0]):\n",
    "                label = labels[i]\n",
    "                class_correct[label] += c[i].item()\n",
    "                class_total[label] += 1\n",
    "    \n",
    "    for i in range(class_size):\n",
    "        if class_total[i] > 0:\n",
    "            class_acc[i] = 100 * class_correct[i]/class_total[i]\n",
    "            print(classes[i], \" class total = \", class_total[i], \" --- correct = \", class_correct[i])\n",
    "    \n",
    "    return class_acc"
   ]
  },
  {
   "cell_type": "code",
   "execution_count": 17,
   "metadata": {},
   "outputs": [
    {
     "name": "stdout",
     "output_type": "stream",
     "text": [
      "A  class total =  19.0  --- correct =  18.0\n",
      "B  class total =  11.0  --- correct =  11.0\n",
      "C  class total =  8.0  --- correct =  8.0\n",
      "D  class total =  6.0  --- correct =  5.0\n",
      "E  class total =  6.0  --- correct =  6.0\n",
      "F  class total =  6.0  --- correct =  6.0\n",
      "G  class total =  6.0  --- correct =  6.0\n",
      "H  class total =  6.0  --- correct =  6.0\n",
      "I  class total =  6.0  --- correct =  4.0\n",
      "J  class total =  6.0  --- correct =  6.0\n",
      "K  class total =  6.0  --- correct =  6.0\n",
      "L  class total =  6.0  --- correct =  4.0\n",
      "M  class total =  6.0  --- correct =  6.0\n",
      "N  class total =  6.0  --- correct =  6.0\n",
      "O  class total =  7.0  --- correct =  6.0\n",
      "P  class total =  6.0  --- correct =  6.0\n",
      "Q  class total =  6.0  --- correct =  6.0\n",
      "R  class total =  6.0  --- correct =  6.0\n",
      "S  class total =  6.0  --- correct =  5.0\n",
      "T  class total =  6.0  --- correct =  6.0\n",
      "U  class total =  6.0  --- correct =  6.0\n",
      "V  class total =  6.0  --- correct =  6.0\n",
      "W  class total =  6.0  --- correct =  6.0\n",
      "X  class total =  6.0  --- correct =  6.0\n",
      "Y  class total =  7.0  --- correct =  6.0\n",
      "Z  class total =  6.0  --- correct =  6.0\n"
     ]
    }
   ],
   "source": [
    "class_acc = test_each_label(net, user_loader)"
   ]
  },
  {
   "cell_type": "code",
   "execution_count": 18,
   "metadata": {},
   "outputs": [
    {
     "data": {
      "image/png": "[encoded data removed]",
      "text/plain": [
       "<Figure size 1440x720 with 1 Axes>"
      ]
     },
     "metadata": {
      "needs_background": "light"
     },
     "output_type": "display_data"
    }
   ],
   "source": [
    "fig = plt.figure(figsize=(20,10))\n",
    "ax = fig.add_axes([0,0,1,1])\n",
    "ax.bar(classes,class_acc)\n",
    "ax.set_title(\"Accuracy (%) of each class\")\n",
    "plt.show()"
   ]
  },
  {
   "cell_type": "code",
   "execution_count": null,
   "metadata": {},
   "outputs": [],
   "source": []
  }
 ],
 "metadata": {
  "kernelspec": {
   "display_name": "Python 3",
   "language": "python",
   "name": "python3"
  },
  "language_info": {
   "codemirror_mode": {
    "name": "ipython",
    "version": 3
   },
   "file_extension": ".py",
   "mimetype": "text/x-python",
   "name": "python",
   "nbconvert_exporter": "python",
   "pygments_lexer": "ipython3",
   "version": "3.8.5"
  }
 },
 "nbformat": 4,
 "nbformat_minor": 4
}
