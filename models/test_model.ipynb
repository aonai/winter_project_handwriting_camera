{
 "cells": [
  {
   "cell_type": "code",
   "execution_count": 1,
   "metadata": {},
   "outputs": [],
   "source": [
    "import numpy as np\n",
    "import torch\n",
    "import torchvision\n",
    "import matplotlib.pyplot as plt\n",
    "from time import time\n",
    "from torchvision import datasets, transforms\n",
    "from torch import nn, optim\n",
    "import cv2"
   ]
  },
  {
   "cell_type": "code",
   "execution_count": 2,
   "metadata": {},
   "outputs": [],
   "source": [
    "import cv2\n",
    "from PIL import Image\n",
    "\n",
    "class Expand(object):\n",
    "\n",
    "    def __init__(self, output_size):\n",
    "        assert isinstance(output_size, (int, tuple))\n",
    "        self.output_size = output_size\n",
    "\n",
    "    def __call__(self, sample):\n",
    "        image = sample.numpy()\n",
    "        h, w = image.shape[1], image.shape[2]\n",
    "        expand_s = self.output_size\n",
    "        background = np.zeros((1, expand_s, expand_s))\n",
    "        rnd_x = np.random.randint(expand_s-w, size=1)[0]\n",
    "        rnd_y = np.random.randint(expand_s-h, size=1)[0]\n",
    "        background[:,rnd_x:rnd_x+w,rnd_y:rnd_y+h] = image\n",
    "        return torch.from_numpy(background)"
   ]
  },
  {
   "cell_type": "code",
   "execution_count": 3,
   "metadata": {},
   "outputs": [],
   "source": [
    "transform = transforms.Compose(\n",
    "                [transforms.ToTensor(),\n",
    "                 transforms.Resize(25),\n",
    "                 Expand(28),\n",
    "                 transforms.Normalize((0.5), (0.5))])"
   ]
  },
  {
   "cell_type": "code",
   "execution_count": 4,
   "metadata": {},
   "outputs": [],
   "source": [
    "classes = []\n",
    "classes.append(chr(48))\n",
    "for i in range(65, 91):\n",
    "    classes.append(chr(i))\n",
    "classes.append(chr(90))\n",
    "classes.append(chr(90))\n",
    "classes.append(chr(90))"
   ]
  },
  {
   "cell_type": "code",
   "execution_count": 5,
   "metadata": {},
   "outputs": [],
   "source": [
    "import torch.nn as nn\n",
    "import torch.nn.functional as F\n",
    "\n",
    "class Net(nn.Module):\n",
    "    def __init__(self):\n",
    "        super(Net, self).__init__()\n",
    "        self.conv1 = nn.Conv2d(1, 25, kernel_size=5)\n",
    "        self.pool = nn.MaxPool2d(2, 2)\n",
    "        self.conv2 = nn.Conv2d(25, 50, kernel_size=5)\n",
    "        self.conv2_drop = nn.Dropout2d()\n",
    "        self.fc1 = nn.Linear(50*4*4, 384)\n",
    "        self.fc2 = nn.Linear(384, 128)\n",
    "        self.fc3 = nn.Linear(128, 27)\n",
    "#         self.fc4 = nn.Linear(64, 27)\n",
    "\n",
    "    def forward(self, x):\n",
    "        x = self.pool(F.relu(self.conv1(x)))\n",
    "        x = self.pool(F.relu(self.conv2(x)))\n",
    "#         print(x.size())\n",
    "        x = x.view(-1, 50*4*4)\n",
    "        x = F.relu(self.fc1(x))\n",
    "        x = F.relu(self.fc2(x))\n",
    "#         x = F.relu(self.fc3(x))\n",
    "#         x = self.fc4(x)\n",
    "        x = self.fc3(x)\n",
    "        return x\n",
    "\n",
    "net = Net()"
   ]
  },
  {
   "cell_type": "code",
   "execution_count": 6,
   "metadata": {},
   "outputs": [
    {
     "data": {
      "text/plain": [
       "<All keys matched successfully>"
      ]
     },
     "execution_count": 6,
     "metadata": {},
     "output_type": "execute_result"
    }
   ],
   "source": [
    "PATH = './model_letters_best.pth'\n",
    "net = Net()\n",
    "net.load_state_dict(torch.load(PATH))"
   ]
  },
  {
   "cell_type": "code",
   "execution_count": 7,
   "metadata": {},
   "outputs": [
    {
     "data": {
      "text/plain": [
       "torch.Size([1, 28, 28])"
      ]
     },
     "execution_count": 7,
     "metadata": {},
     "output_type": "execute_result"
    }
   ],
   "source": [
    "from PIL import Image\n",
    "\n",
    "\n",
    "def image_loader(s, i,x=0, y=0,w=1000,h=1000):\n",
    "#     image = cv2.imread(f'./img/test_image_{i}.png',cv2.IMREAD_GRAYSCALE)\n",
    "    if s == 1 or s == 2 or s == 5:\n",
    "        image = cv2.imread(f'./img/testset/test_image_set{s}/test_image_{i}.png' ,cv2.IMREAD_GRAYSCALE)\n",
    "    else:\n",
    "        image = cv2.imread(f'./img/testset/test_image_set{s}/test_image_{i}.jpg' ,cv2.IMREAD_GRAYSCALE)\n",
    "    if not s == 5:\n",
    "        image = cv2.bitwise_not(image) # <--- this is for test set only (invert image)\n",
    "    image = np.fliplr(image)\n",
    "    image = np.rot90(image, axes=(0,1))\n",
    "    image = image[y:y+h, x:x+w]\n",
    "    image = cv2.resize(image, (28,28))\n",
    "    \n",
    "#     plt.imshow(image)\n",
    "#     plt.show()\n",
    "    \n",
    "    image = Image.fromarray(image)\n",
    "    image = transform(image)\n",
    "    return image\n",
    "\n",
    "img = image_loader(1,1)\n",
    "img.size()"
   ]
  },
  {
   "cell_type": "markdown",
   "metadata": {},
   "source": [
    "## handwritten lower case letters (cropped)"
   ]
  },
  {
   "cell_type": "code",
   "execution_count": 8,
   "metadata": {},
   "outputs": [
    {
     "name": "stdout",
     "output_type": "stream",
     "text": [
      "Predicted:  0    Acutal:  0  ----  True\n",
      "Predicted:  A    Acutal:  A  ----  True\n",
      "Predicted:  B    Acutal:  B  ----  True\n",
      "Predicted:  C    Acutal:  C  ----  True\n",
      "Predicted:  D    Acutal:  D  ----  True\n",
      "Predicted:  E    Acutal:  E  ----  True\n",
      "Predicted:  I    Acutal:  F  ----  False\n",
      "Predicted:  G    Acutal:  G  ----  True\n",
      "Predicted:  H    Acutal:  H  ----  True\n",
      "Predicted:  I    Acutal:  I  ----  True\n",
      "Predicted:  J    Acutal:  J  ----  True\n",
      "Predicted:  H    Acutal:  K  ----  False\n",
      "Predicted:  L    Acutal:  L  ----  True\n",
      "Predicted:  G    Acutal:  M  ----  False\n",
      "Predicted:  I    Acutal:  N  ----  False\n",
      "Predicted:  O    Acutal:  O  ----  True\n",
      "Predicted:  P    Acutal:  P  ----  True\n",
      "Predicted:  X    Acutal:  Q  ----  False\n",
      "Predicted:  R    Acutal:  R  ----  True\n",
      "Predicted:  S    Acutal:  S  ----  True\n",
      "Predicted:  T    Acutal:  T  ----  True\n",
      "Predicted:  U    Acutal:  U  ----  True\n",
      "Predicted:  V    Acutal:  V  ----  True\n",
      "Predicted:  W    Acutal:  W  ----  True\n",
      "Predicted:  X    Acutal:  X  ----  True\n",
      "Predicted:  Y    Acutal:  Y  ----  True\n",
      "Predicted:  Y    Acutal:  Z  ----  False\n",
      "Predicted:  Y    Acutal:  Z  ----  False\n",
      "accuracy =  73.07692307692308\n"
     ]
    }
   ],
   "source": [
    "images = []\n",
    "true_count = 0\n",
    "for idx in range(28):\n",
    "    images.append(image_loader(1,idx+1))\n",
    "    \n",
    "    if (idx+1)%4 == 0:\n",
    "        images = torch.stack(images)\n",
    "        outputs = net(images.float())\n",
    "        _, predicted = torch.max(outputs, 1)\n",
    "        for j in range(4):\n",
    "            pred = classes[predicted[j]-1]\n",
    "            act = classes[idx+j-3]\n",
    "            print('Predicted: ',pred, \"   Acutal: \", act, \" ---- \", pred==act)\n",
    "            if pred==act: true_count += 1\n",
    "            \n",
    "        images = []\n",
    "acc = 100*(true_count-2)/26\n",
    "print(\"accuracy = \", acc)"
   ]
  },
  {
   "cell_type": "markdown",
   "metadata": {},
   "source": [
    "## handwritten lower case letters (thick line)"
   ]
  },
  {
   "cell_type": "code",
   "execution_count": 9,
   "metadata": {},
   "outputs": [
    {
     "name": "stdout",
     "output_type": "stream",
     "text": [
      "Predicted:  A    Acutal:  A  ----  True\n",
      "Predicted:  B    Acutal:  B  ----  True\n",
      "Predicted:  C    Acutal:  C  ----  True\n",
      "Predicted:  D    Acutal:  D  ----  True\n",
      "Predicted:  E    Acutal:  E  ----  True\n",
      "Predicted:  T    Acutal:  F  ----  False\n",
      "Predicted:  G    Acutal:  G  ----  True\n",
      "Predicted:  H    Acutal:  H  ----  True\n",
      "Predicted:  I    Acutal:  I  ----  True\n",
      "Predicted:  J    Acutal:  J  ----  True\n",
      "Predicted:  H    Acutal:  K  ----  False\n",
      "Predicted:  I    Acutal:  L  ----  False\n",
      "Predicted:  M    Acutal:  M  ----  True\n",
      "Predicted:  N    Acutal:  N  ----  True\n",
      "Predicted:  O    Acutal:  O  ----  True\n",
      "Predicted:  P    Acutal:  P  ----  True\n",
      "Predicted:  Q    Acutal:  Q  ----  True\n",
      "Predicted:  I    Acutal:  R  ----  False\n",
      "Predicted:  S    Acutal:  S  ----  True\n",
      "Predicted:  C    Acutal:  T  ----  False\n",
      "Predicted:  U    Acutal:  U  ----  True\n",
      "Predicted:  V    Acutal:  V  ----  True\n",
      "Predicted:  W    Acutal:  W  ----  True\n",
      "Predicted:  X    Acutal:  X  ----  True\n",
      "Predicted:  Y    Acutal:  Y  ----  True\n",
      "Predicted:  Z    Acutal:  Z  ----  True\n",
      "Predicted:  Z    Acutal:  Z  ----  True\n",
      "Predicted:  Z    Acutal:  Z  ----  True\n",
      "accuracy =  80.76923076923077\n"
     ]
    }
   ],
   "source": [
    "images = []\n",
    "true_count = 0\n",
    "for idx in range(28):\n",
    "    images.append(image_loader(3,idx+1))\n",
    "    \n",
    "    if (idx+1)%4 == 0:\n",
    "        images = torch.stack(images)\n",
    "        outputs = net(images.float())\n",
    "        _, predicted = torch.max(outputs, 1)\n",
    "        for j in range(4):\n",
    "            pred = classes[predicted[j]]\n",
    "            act = classes[idx+j-2]\n",
    "            print('Predicted: ',pred, \"   Acutal: \", act, \" ---- \", pred==act)\n",
    "            if pred==act: true_count += 1\n",
    "            \n",
    "        images = []\n",
    "acc = 100*(true_count-2)/26\n",
    "print(\"accuracy = \", acc)"
   ]
  },
  {
   "cell_type": "markdown",
   "metadata": {},
   "source": [
    "## handwritten uppercase letters (cropped)"
   ]
  },
  {
   "cell_type": "code",
   "execution_count": 10,
   "metadata": {},
   "outputs": [
    {
     "name": "stdout",
     "output_type": "stream",
     "text": [
      "Predicted:  0    Acutal:  0  ----  True\n",
      "Predicted:  A    Acutal:  A  ----  True\n",
      "Predicted:  B    Acutal:  B  ----  True\n",
      "Predicted:  C    Acutal:  C  ----  True\n",
      "Predicted:  D    Acutal:  D  ----  True\n",
      "Predicted:  E    Acutal:  E  ----  True\n",
      "Predicted:  F    Acutal:  F  ----  True\n",
      "Predicted:  G    Acutal:  G  ----  True\n",
      "Predicted:  H    Acutal:  H  ----  True\n",
      "Predicted:  I    Acutal:  I  ----  True\n",
      "Predicted:  J    Acutal:  J  ----  True\n",
      "Predicted:  K    Acutal:  K  ----  True\n",
      "Predicted:  L    Acutal:  L  ----  True\n",
      "Predicted:  M    Acutal:  M  ----  True\n",
      "Predicted:  N    Acutal:  N  ----  True\n",
      "Predicted:  O    Acutal:  O  ----  True\n",
      "Predicted:  T    Acutal:  P  ----  False\n",
      "Predicted:  Q    Acutal:  Q  ----  True\n",
      "Predicted:  B    Acutal:  R  ----  False\n",
      "Predicted:  S    Acutal:  S  ----  True\n",
      "Predicted:  T    Acutal:  T  ----  True\n",
      "Predicted:  U    Acutal:  U  ----  True\n",
      "Predicted:  T    Acutal:  V  ----  False\n",
      "Predicted:  W    Acutal:  W  ----  True\n",
      "Predicted:  X    Acutal:  X  ----  True\n",
      "Predicted:  Y    Acutal:  Y  ----  True\n",
      "Predicted:  Y    Acutal:  Z  ----  False\n",
      "Predicted:  Y    Acutal:  Z  ----  False\n",
      "accuracy =  80.76923076923077\n"
     ]
    }
   ],
   "source": [
    "images = []\n",
    "true_count = 0\n",
    "for idx in range(28):\n",
    "    images.append(image_loader(2,idx+1))\n",
    "    \n",
    "    if (idx+1)%4 == 0:\n",
    "        images = torch.stack(images)\n",
    "        outputs = net(images.float())\n",
    "        _, predicted = torch.max(outputs, 1)\n",
    "        for j in range(4):\n",
    "            pred = classes[predicted[j]-1]\n",
    "            act = classes[idx+j-3]\n",
    "            print('Predicted: ',pred, \"   Acutal: \", act, \" ---- \", pred==act)\n",
    "            if pred==act: true_count += 1\n",
    "            \n",
    "        images = []\n",
    "acc = 100*(true_count-2)/26\n",
    "print(\"accuracy = \", acc)"
   ]
  },
  {
   "cell_type": "markdown",
   "metadata": {},
   "source": [
    "## handwritten uppercase letters (thick line)"
   ]
  },
  {
   "cell_type": "code",
   "execution_count": 11,
   "metadata": {},
   "outputs": [
    {
     "name": "stdout",
     "output_type": "stream",
     "text": [
      "Predicted:  A    Acutal:  A  ----  True\n",
      "Predicted:  B    Acutal:  B  ----  True\n",
      "Predicted:  C    Acutal:  C  ----  True\n",
      "Predicted:  D    Acutal:  D  ----  True\n",
      "Predicted:  E    Acutal:  E  ----  True\n",
      "Predicted:  F    Acutal:  F  ----  True\n",
      "Predicted:  G    Acutal:  G  ----  True\n",
      "Predicted:  H    Acutal:  H  ----  True\n",
      "Predicted:  I    Acutal:  I  ----  True\n",
      "Predicted:  J    Acutal:  J  ----  True\n",
      "Predicted:  K    Acutal:  K  ----  True\n",
      "Predicted:  L    Acutal:  L  ----  True\n",
      "Predicted:  M    Acutal:  M  ----  True\n",
      "Predicted:  N    Acutal:  N  ----  True\n",
      "Predicted:  O    Acutal:  O  ----  True\n",
      "Predicted:  P    Acutal:  P  ----  True\n",
      "Predicted:  Q    Acutal:  Q  ----  True\n",
      "Predicted:  R    Acutal:  R  ----  True\n",
      "Predicted:  S    Acutal:  S  ----  True\n",
      "Predicted:  T    Acutal:  T  ----  True\n",
      "Predicted:  U    Acutal:  U  ----  True\n",
      "Predicted:  V    Acutal:  V  ----  True\n",
      "Predicted:  W    Acutal:  W  ----  True\n",
      "Predicted:  X    Acutal:  X  ----  True\n",
      "Predicted:  Y    Acutal:  Y  ----  True\n",
      "Predicted:  Z    Acutal:  Z  ----  True\n",
      "Predicted:  Z    Acutal:  Z  ----  True\n",
      "Predicted:  Z    Acutal:  Z  ----  True\n",
      "accuracy =  100.0\n"
     ]
    }
   ],
   "source": [
    "images = []\n",
    "true_count = 0\n",
    "for idx in range(28):\n",
    "    images.append(image_loader(4,idx+1))\n",
    "    \n",
    "    if (idx+1)%4 == 0:\n",
    "        images = torch.stack(images)\n",
    "        outputs = net(images.float())\n",
    "        _, predicted = torch.max(outputs, 1)\n",
    "        for j in range(4):\n",
    "            pred = classes[predicted[j]]\n",
    "            act = classes[idx+j-2]\n",
    "            print('Predicted: ',pred, \"   Acutal: \", act, \" ---- \", pred==act)\n",
    "            if pred==act: true_count += 1\n",
    "            \n",
    "        images = []\n",
    "acc = 100*(true_count-2)/26\n",
    "print(\"accuracy = \", acc)"
   ]
  },
  {
   "cell_type": "markdown",
   "metadata": {},
   "source": [
    "## screenshot images from EMNIST"
   ]
  },
  {
   "cell_type": "code",
   "execution_count": 12,
   "metadata": {},
   "outputs": [
    {
     "name": "stdout",
     "output_type": "stream",
     "text": [
      "Predicted:  A    Acutal:  A  ----  True\n",
      "Predicted:  B    Acutal:  B  ----  True\n",
      "Predicted:  C    Acutal:  C  ----  True\n",
      "Predicted:  D    Acutal:  D  ----  True\n",
      "Predicted:  E    Acutal:  E  ----  True\n",
      "Predicted:  F    Acutal:  F  ----  True\n",
      "Predicted:  G    Acutal:  G  ----  True\n",
      "Predicted:  H    Acutal:  H  ----  True\n",
      "Predicted:  L    Acutal:  I  ----  False\n",
      "Predicted:  J    Acutal:  J  ----  True\n",
      "Predicted:  K    Acutal:  K  ----  True\n",
      "Predicted:  L    Acutal:  L  ----  True\n",
      "Predicted:  M    Acutal:  M  ----  True\n",
      "Predicted:  N    Acutal:  N  ----  True\n",
      "Predicted:  O    Acutal:  O  ----  True\n",
      "Predicted:  P    Acutal:  P  ----  True\n",
      "Predicted:  I    Acutal:  Q  ----  False\n",
      "Predicted:  R    Acutal:  R  ----  True\n",
      "Predicted:  S    Acutal:  S  ----  True\n",
      "Predicted:  T    Acutal:  T  ----  True\n",
      "Predicted:  U    Acutal:  U  ----  True\n",
      "Predicted:  V    Acutal:  V  ----  True\n",
      "Predicted:  W    Acutal:  W  ----  True\n",
      "Predicted:  X    Acutal:  X  ----  True\n",
      "Predicted:  Y    Acutal:  Y  ----  True\n",
      "Predicted:  Z    Acutal:  Z  ----  True\n",
      "Predicted:  Z    Acutal:  Z  ----  True\n",
      "Predicted:  Z    Acutal:  Z  ----  True\n",
      "accuracy =  92.3076923076923\n"
     ]
    }
   ],
   "source": [
    "images = []\n",
    "true_count = 0\n",
    "for idx in range(28):\n",
    "    images.append(image_loader(5, idx+1))\n",
    "    \n",
    "    if (idx+1)%4 == 0:\n",
    "        images = torch.stack(images)\n",
    "        outputs = net(images.float())\n",
    "        _, predicted = torch.max(outputs, 1)\n",
    "        for j in range(4):\n",
    "            pred = classes[predicted[j]]\n",
    "            act = classes[idx+j-2]\n",
    "            print('Predicted: ',pred, \"   Acutal: \", act, \" ---- \", pred==act)\n",
    "            if pred==act: true_count += 1\n",
    "            \n",
    "        images = []\n",
    "acc = 100*(true_count-2)/26\n",
    "print(\"accuracy = \", acc)"
   ]
  },
  {
   "cell_type": "code",
   "execution_count": null,
   "metadata": {},
   "outputs": [],
   "source": []
  },
  {
   "cell_type": "code",
   "execution_count": null,
   "metadata": {},
   "outputs": [],
   "source": []
  },
  {
   "cell_type": "markdown",
   "metadata": {},
   "source": [
    "## User Inputs and Tests"
   ]
  },
  {
   "cell_type": "code",
   "execution_count": 13,
   "metadata": {},
   "outputs": [],
   "source": [
    "# PATH = './model_user_input.pth'\n",
    "# net = Net()\n",
    "# net.load_state_dict(torch.load(PATH))"
   ]
  },
  {
   "cell_type": "code",
   "execution_count": 14,
   "metadata": {},
   "outputs": [],
   "source": [
    "def imshow(img):\n",
    "    img = img / 2 + 0.5 \n",
    "    npimg = img.numpy()\n",
    "    # mirror image and rotate\n",
    "    npimg = np.fliplr(npimg)\n",
    "    npimg = np.rot90(npimg, axes=(-1,-2))\n",
    "    plt.imshow(np.transpose(npimg, (1, 2, 0)))\n",
    "    plt.show()"
   ]
  },
  {
   "cell_type": "code",
   "execution_count": 15,
   "metadata": {},
   "outputs": [],
   "source": [
    "from torch.utils.data import Dataset\n",
    "import os \n",
    "import natsort\n",
    "import cv2\n",
    "from PIL import Image\n",
    "\n",
    "class UserImageDataSet(Dataset):\n",
    "    def __init__(self, root_dir, transform):\n",
    "        self.root_dir = root_dir\n",
    "        self.transform = transform\n",
    "        all_imgs = os.listdir(root_dir)\n",
    "        self.total_imgs = natsort.natsorted(all_imgs)\n",
    "\n",
    "    def __len__(self):\n",
    "        return len(self.total_imgs)\n",
    "\n",
    "    def __getitem__(self, idx):\n",
    "        label = idx+1\n",
    "        path = f\"{self.root_dir}/test_image_{chr(idx+65)}.png\"\n",
    "        while not os.path.isfile(path):\n",
    "            path = f\"{self.root_dir}/test_image_{chr(label+65)}.png\"\n",
    "            label += 1\n",
    "        image = cv2.imread(path,cv2.IMREAD_GRAYSCALE)\n",
    "        image = np.rot90(image, axes=(0,1))\n",
    "        image = cv2.resize(image, (28,28))\n",
    "        image = Image.fromarray(image)\n",
    "        image = transform(image)\n",
    "        return image, torch.tensor(label)"
   ]
  },
  {
   "cell_type": "code",
   "execution_count": 16,
   "metadata": {},
   "outputs": [],
   "source": [
    "from torchvision import datasets\n",
    "img_folder_path = './img/user_input'\n",
    "user_dataset = UserImageDataSet(img_folder_path, transform=transform)\n",
    "user_loader = torch.utils.data.DataLoader(user_dataset , batch_size=26, shuffle=False, num_workers=0)"
   ]
  },
  {
   "cell_type": "code",
   "execution_count": 17,
   "metadata": {},
   "outputs": [
    {
     "data": {
      "image/png": "[encoded data removed]",
      "text/plain": [
       "<matplotlib.figure.Figure at 0x7fa12e0efc70>"
      ]
     },
     "metadata": {
      "needs_background": "light"
     },
     "output_type": "display_data"
    },
    {
     "name": "stdout",
     "output_type": "stream",
     "text": [
      "Predicted:      A     B     D     D     E     F     G     H     L     J     K     L     M     N     O     P     Q     R     S     T     U     V     W     X     Y     Z\n",
      "GroundTruth:      A     B     C     D     E     F     G     H     I     J     K     L     M     N     O     P     Q     R     S     T     U     V     W     X     Y     Z\n",
      "accuracy =  92.3076923076923\n"
     ]
    }
   ],
   "source": [
    "dataiter = iter(user_loader)\n",
    "images, labels = dataiter.next()\n",
    "\n",
    "imshow(torchvision.utils.make_grid(images))\n",
    "\n",
    "outputs = net(images.float())\n",
    "_, predicted = torch.max(outputs, 1)\n",
    "\n",
    "print('Predicted: ', ' '.join('%5s' % classes[predicted[j]] for j in range(26)))\n",
    "print('GroundTruth: ', ' '.join('%5s' % classes[labels[j]] for j in range(26)))\n",
    "\n",
    "acc = 0\n",
    "for i, pred in enumerate(predicted):\n",
    "    if classes[i+1] == classes[pred]: acc+=1\n",
    "print('accuracy = ', acc*100/26)"
   ]
  },
  {
   "cell_type": "code",
   "execution_count": 18,
   "metadata": {},
   "outputs": [],
   "source": [
    "img_folder_path = './img/user_test'\n",
    "user_testset = UserImageDataSet(img_folder_path, transform=transform)\n",
    "user_test_loader = torch.utils.data.DataLoader(user_testset , batch_size=26, shuffle=False, num_workers=0)"
   ]
  },
  {
   "cell_type": "code",
   "execution_count": 19,
   "metadata": {},
   "outputs": [
    {
     "data": {
      "image/png": "[encoded data removed]",
      "text/plain": [
       "<matplotlib.figure.Figure at 0x7fa12c0183a0>"
      ]
     },
     "metadata": {
      "needs_background": "light"
     },
     "output_type": "display_data"
    },
    {
     "name": "stdout",
     "output_type": "stream",
     "text": [
      "Predicted:      A     B     C     D     E     F     G     H     L     I     K     L     M     N     O     P     Q     R     S     T     H     V     W     X     Y     Z\n",
      "GroundTruth:      A     B     C     D     E     F     G     H     I     J     K     L     M     N     O     P     Q     R     S     T     U     V     W     X     Y     Z\n",
      "accuracy =  88.46153846153847\n"
     ]
    }
   ],
   "source": [
    "dataiter = iter(user_test_loader)\n",
    "images, labels = dataiter.next()\n",
    "\n",
    "imshow(torchvision.utils.make_grid(images))\n",
    "\n",
    "outputs = net(images.float())\n",
    "_, predicted = torch.max(outputs, 1)\n",
    "\n",
    "print('Predicted: ', ' '.join('%5s' % classes[predicted[j]] for j in range(26)))\n",
    "print('GroundTruth: ', ' '.join('%5s' % classes[labels[j]] for j in range(26)))\n",
    "\n",
    "acc = 0\n",
    "for i, pred in enumerate(predicted):\n",
    "    if classes[i+1] == classes[pred]: acc+=1\n",
    "print('accuracy = ', acc*100/26)"
   ]
  },
  {
   "cell_type": "code",
   "execution_count": null,
   "metadata": {},
   "outputs": [],
   "source": []
  }
 ],
 "metadata": {
  "kernelspec": {
   "display_name": "Python 3",
   "language": "python",
   "name": "python3"
  },
  "language_info": {
   "codemirror_mode": {
    "name": "ipython",
    "version": 3
   },
   "file_extension": ".py",
   "mimetype": "text/x-python",
   "name": "python",
   "nbconvert_exporter": "python",
   "pygments_lexer": "ipython3",
   "version": "3.8.5"
  }
 },
 "nbformat": 4,
 "nbformat_minor": 4
}
